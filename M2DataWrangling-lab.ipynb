{
  "metadata": {
    "kernelspec": {
      "name": "python",
      "display_name": "Python (Pyodide)",
      "language": "python"
    },
    "language_info": {
      "codemirror_mode": {
        "name": "python",
        "version": 3
      },
      "file_extension": ".py",
      "mimetype": "text/x-python",
      "name": "python",
      "nbconvert_exporter": "python",
      "pygments_lexer": "ipython3",
      "version": "3.8"
    },
    "prev_pub_hash": "955deb52b02eec3e16e61df584232f2cc045079d697f475cb65582dbfebe300c"
  },
  "nbformat_minor": 4,
  "nbformat": 4,
  "cells": [
    {
      "cell_type": "markdown",
      "source": "<p style=\"text-align:center\">\n    <a href=\"https://skills.network/?utm_medium=Exinfluencer&utm_source=Exinfluencer&utm_content=000026UJ&utm_term=10006555&utm_id=NA-SkillsNetwork-Channel-SkillsNetworkCoursesIBMDA0321ENSkillsNetwork928-2022-01-01\" target=\"_blank\">\n    <img src=\"https://cf-courses-data.s3.us.cloud-object-storage.appdomain.cloud/assets/logos/SN_web_lightmode.png\" width=\"200\" alt=\"Skills Network Logo\"  />\n    </a>\n</p>\n",
      "metadata": {}
    },
    {
      "cell_type": "markdown",
      "source": "# **Data Wrangling Lab**\n",
      "metadata": {}
    },
    {
      "cell_type": "markdown",
      "source": "Estimated time needed: **45 to 60** minutes\n",
      "metadata": {}
    },
    {
      "cell_type": "markdown",
      "source": "In this assignment you will be performing data wrangling.\n",
      "metadata": {}
    },
    {
      "cell_type": "markdown",
      "source": "## Objectives\n",
      "metadata": {}
    },
    {
      "cell_type": "markdown",
      "source": "In this lab you will perform the following:\n",
      "metadata": {}
    },
    {
      "cell_type": "markdown",
      "source": "-   Identify duplicate values in the dataset.\n\n-   Remove duplicate values from the dataset.\n\n-   Identify missing values in the dataset.\n\n-   Impute the missing values in the dataset.\n\n-   Normalize data in the dataset.\n",
      "metadata": {}
    },
    {
      "cell_type": "markdown",
      "source": "<hr>\n",
      "metadata": {}
    },
    {
      "cell_type": "markdown",
      "source": "## Hands on Lab\n",
      "metadata": {}
    },
    {
      "cell_type": "markdown",
      "source": "Import pandas module.\n",
      "metadata": {}
    },
    {
      "cell_type": "code",
      "source": "import pandas as pd\n\n#imported numpy although not stated to, as it makes identifying NaN values much easier\nimport numpy as np",
      "metadata": {
        "trusted": true
      },
      "outputs": [],
      "execution_count": 1
    },
    {
      "cell_type": "markdown",
      "source": "Load the dataset into a dataframe.\n",
      "metadata": {}
    },
    {
      "cell_type": "markdown",
      "source": "<h2>Read Data</h2>\n<p>\nWe utilize the <code>pandas.read_csv()</code> function for reading CSV files. However, in this version of the lab, which operates on JupyterLite, the dataset needs to be downloaded to the interface using the provided code below.\n</p>\n",
      "metadata": {}
    },
    {
      "cell_type": "markdown",
      "source": "The functions below will download the dataset into your browser:\n",
      "metadata": {}
    },
    {
      "cell_type": "code",
      "source": "from pyodide.http import pyfetch\n\nasync def download(url, filename):\n    response = await pyfetch(url)\n    if response.status == 200:\n        with open(filename, \"wb\") as f:\n            f.write(await response.bytes())",
      "metadata": {
        "trusted": true
      },
      "outputs": [],
      "execution_count": 2
    },
    {
      "cell_type": "code",
      "source": "file_path = \"https://cf-courses-data.s3.us.cloud-object-storage.appdomain.cloud/IBM-DA0321EN-SkillsNetwork/LargeData/m1_survey_data.csv\"",
      "metadata": {
        "trusted": true
      },
      "outputs": [],
      "execution_count": 3
    },
    {
      "cell_type": "markdown",
      "source": "To obtain the dataset, utilize the download() function as defined above:  \n",
      "metadata": {}
    },
    {
      "cell_type": "code",
      "source": "await download(file_path, \"m1_survey_data.csv\")\nfile_name=\"m1_survey_data.csv\"",
      "metadata": {
        "trusted": true
      },
      "outputs": [],
      "execution_count": 4
    },
    {
      "cell_type": "markdown",
      "source": "Utilize the Pandas method read_csv() to load the data into a dataframe.\n",
      "metadata": {}
    },
    {
      "cell_type": "code",
      "source": "df = pd.read_csv(file_name)",
      "metadata": {
        "trusted": true
      },
      "outputs": [],
      "execution_count": 5
    },
    {
      "cell_type": "markdown",
      "source": "> Note: This version of the lab is working on JupyterLite, which requires the dataset to be downloaded to the interface.While working on the downloaded version of this notebook on their local machines(Jupyter Anaconda), the learners can simply **skip the steps above,** and simply use the URL directly in the `pandas.read_csv()` function. You can uncomment and run the statements in the cell below.\n",
      "metadata": {}
    },
    {
      "cell_type": "code",
      "source": "#df = pd.read_csv(\"https://cf-courses-data.s3.us.cloud-object-storage.appdomain.cloud/IBM-DA0321EN-SkillsNetwork/LargeData/m1_survey_data.csv\")",
      "metadata": {
        "trusted": true
      },
      "outputs": [],
      "execution_count": null
    },
    {
      "cell_type": "markdown",
      "source": "## Finding duplicates\n",
      "metadata": {}
    },
    {
      "cell_type": "markdown",
      "source": "In this section you will identify duplicate values in the dataset.\n",
      "metadata": {}
    },
    {
      "cell_type": "markdown",
      "source": " Find how many duplicate rows exist in the dataframe.\n",
      "metadata": {}
    },
    {
      "cell_type": "code",
      "source": "df.duplicated().sum()  # 154 duplicate rows",
      "metadata": {
        "trusted": true
      },
      "outputs": [
        {
          "execution_count": 6,
          "output_type": "execute_result",
          "data": {
            "text/plain": "154"
          },
          "metadata": {}
        }
      ],
      "execution_count": 6
    },
    {
      "cell_type": "markdown",
      "source": "## Removing duplicates\n",
      "metadata": {}
    },
    {
      "cell_type": "markdown",
      "source": "Remove the duplicate rows from the dataframe.\n",
      "metadata": {}
    },
    {
      "cell_type": "code",
      "source": "df.drop_duplicates(inplace=True)\n",
      "metadata": {
        "trusted": true
      },
      "outputs": [],
      "execution_count": 7
    },
    {
      "cell_type": "markdown",
      "source": "Verify if duplicates were actually dropped.\n",
      "metadata": {}
    },
    {
      "cell_type": "code",
      "source": "df.duplicated().sum() #  duplicates dropped!",
      "metadata": {
        "trusted": true
      },
      "outputs": [
        {
          "execution_count": 8,
          "output_type": "execute_result",
          "data": {
            "text/plain": "0"
          },
          "metadata": {}
        }
      ],
      "execution_count": 8
    },
    {
      "cell_type": "markdown",
      "source": "## Finding Missing values\n",
      "metadata": {}
    },
    {
      "cell_type": "markdown",
      "source": "Find the missing values for all columns.\n",
      "metadata": {}
    },
    {
      "cell_type": "code",
      "source": "missing = df.isnull().sum()\npd.set_option('display.max_rows', None)\npd.set_option('display.max_columns', None)\nprint(missing)",
      "metadata": {
        "trusted": true
      },
      "outputs": [
        {
          "name": "stdout",
          "text": "Respondent                   0\nMainBranch                   0\nHobbyist                     0\nOpenSourcer                  0\nOpenSource                  81\nEmployment                   0\nCountry                      0\nStudent                     51\nEdLevel                    112\nUndergradMajor             737\nEduOther                   164\nOrgSize                     96\nDevType                     65\nYearsCode                    9\nAge1stCode                  13\nYearsCodePro                16\nCareerSat                    0\nJobSat                       1\nMgrIdiot                   493\nMgrMoney                   497\nMgrWant                    493\nJobSeek                      0\nLastHireDate                 0\nLastInt                    413\nFizzBuzz                    37\nJobFactors                   3\nResumeUpdate                39\nCurrencySymbol               0\nCurrencyDesc                 0\nCompTotal                  809\nCompFreq                   206\nConvertedComp              816\nWorkWeekHrs                122\nWorkPlan                   121\nWorkChallenge              164\nWorkRemote                   8\nWorkLoc                     32\nImpSyn                       5\nCodeRev                      1\nCodeRevHrs                2426\nUnitTests                   29\nPurchaseHow                196\nPurchaseWhat                38\nLanguageWorkedWith          11\nLanguageDesireNextYear     134\nDatabaseWorkedWith         453\nDatabaseDesireNextYear    1042\nPlatformWorkedWith         411\nPlatformDesireNextYear     544\nWebFrameWorkedWith        1393\nWebFrameDesireNextYear    1617\nMiscTechWorkedWith        2182\nMiscTechDesireNextYear    1455\nDevEnviron                  29\nOpSys                       34\nContainers                  82\nBlockchainOrg             2322\nBlockchainIs              2610\nBetterLife                  98\nITperson                    35\nOffOn                       38\nSocialMedia                293\nExtraversion                20\nScreenName                 507\nSOVisit1st                 325\nSOVisitFreq                  5\nSOVisitTo                    1\nSOFindAnswer                 3\nSOTimeSaved                 50\nSOHowMuchTime             1917\nSOAccount                    1\nSOPartFreq                1128\nSOJobs                       6\nEntTeams                     5\nSOComm                       0\nWelcomeChange               85\nSONewContent              1965\nAge                        287\nGender                      73\nTrans                      123\nSexuality                  542\nEthnicity                  675\nDependents                 140\nSurveyLength                19\nSurveyEase                  14\ndtype: int64\n",
          "output_type": "stream"
        }
      ],
      "execution_count": 9
    },
    {
      "cell_type": "markdown",
      "source": "Find out how many rows are missing in the column 'WorkLoc'\n",
      "metadata": {}
    },
    {
      "cell_type": "code",
      "source": "missing_wl = df['WorkLoc'].isnull().sum()\nmissing_wl  # 32 missing rows in WorkLoc column",
      "metadata": {
        "trusted": true
      },
      "outputs": [
        {
          "execution_count": 10,
          "output_type": "execute_result",
          "data": {
            "text/plain": "32"
          },
          "metadata": {}
        }
      ],
      "execution_count": 10
    },
    {
      "cell_type": "markdown",
      "source": "## Imputing missing values\n",
      "metadata": {}
    },
    {
      "cell_type": "markdown",
      "source": "Find the  value counts for the column WorkLoc.\n",
      "metadata": {}
    },
    {
      "cell_type": "code",
      "source": "df['WorkLoc'].value_counts() ",
      "metadata": {
        "trusted": true
      },
      "outputs": [
        {
          "execution_count": 11,
          "output_type": "execute_result",
          "data": {
            "text/plain": "Office                                            6806\nHome                                              3589\nOther place, such as a coworking space or cafe     971\nName: WorkLoc, dtype: int64"
          },
          "metadata": {}
        }
      ],
      "execution_count": 11
    },
    {
      "cell_type": "markdown",
      "source": "Identify the value that is most frequent (majority) in the WorkLoc column.\n",
      "metadata": {}
    },
    {
      "cell_type": "code",
      "source": "df['WorkLoc'].value_counts().idxmax()  # Office",
      "metadata": {
        "trusted": true
      },
      "outputs": [
        {
          "execution_count": 12,
          "output_type": "execute_result",
          "data": {
            "text/plain": "'Office'"
          },
          "metadata": {}
        }
      ],
      "execution_count": 12
    },
    {
      "cell_type": "markdown",
      "source": "Impute (replace) all the empty rows in the column WorkLoc with the value that you have identified as majority.\n",
      "metadata": {}
    },
    {
      "cell_type": "code",
      "source": "workloc_max = df['WorkLoc'].value_counts().idxmax()\ndf['WorkLoc'].replace(np.nan, workloc_max, inplace=True)",
      "metadata": {
        "trusted": true
      },
      "outputs": [],
      "execution_count": 13
    },
    {
      "cell_type": "markdown",
      "source": "After imputation there should ideally not be any empty rows in the WorkLoc column.\n",
      "metadata": {}
    },
    {
      "cell_type": "markdown",
      "source": "Verify if imputing was successful.\n",
      "metadata": {}
    },
    {
      "cell_type": "code",
      "source": "missing_wl = df['WorkLoc'].isnull().sum()\nmissing_wl ",
      "metadata": {
        "trusted": true
      },
      "outputs": [
        {
          "execution_count": 14,
          "output_type": "execute_result",
          "data": {
            "text/plain": "0"
          },
          "metadata": {}
        }
      ],
      "execution_count": 14
    },
    {
      "cell_type": "markdown",
      "source": "## Normalizing data\n",
      "metadata": {}
    },
    {
      "cell_type": "markdown",
      "source": "There are two columns in the dataset that talk about compensation.\n\nOne is \"CompFreq\". This column shows how often a developer is paid (Yearly, Monthly, Weekly).\n\nThe other is \"CompTotal\". This column talks about how much the developer is paid per Year, Month, or Week depending upon his/her \"CompFreq\". \n\nThis makes it difficult to compare the total compensation of the developers.\n\nIn this section you will create a new column called 'NormalizedAnnualCompensation' which contains the 'Annual Compensation' irrespective of the 'CompFreq'.\n\nOnce this column is ready, it makes comparison of salaries easy.\n",
      "metadata": {}
    },
    {
      "cell_type": "markdown",
      "source": "<hr>\n",
      "metadata": {}
    },
    {
      "cell_type": "markdown",
      "source": "List out the various categories in the column 'CompFreq'\n",
      "metadata": {}
    },
    {
      "cell_type": "code",
      "source": "categories = df['CompFreq'].unique()\nprint(categories)  # 'Yearly' 'Monthly' 'Weekly'",
      "metadata": {
        "trusted": true
      },
      "outputs": [
        {
          "name": "stdout",
          "text": "['Yearly' 'Monthly' 'Weekly' nan]\n",
          "output_type": "stream"
        }
      ],
      "execution_count": 15
    },
    {
      "cell_type": "markdown",
      "source": "Create a new column named 'NormalizedAnnualCompensation'. Use the hint given below if needed.\n",
      "metadata": {}
    },
    {
      "cell_type": "markdown",
      "source": "Double click to see the **Hint**.\n\n<!--\n\nUse the below logic to arrive at the values for the column NormalizedAnnualCompensation.\n\nIf the CompFreq is Yearly then use the exising value in CompTotal\nIf the CompFreq is Monthly then multiply the value in CompTotal with 12 (months in an year)\nIf the CompFreq is Weekly then multiply the value in CompTotal with 52 (weeks in an year)\n\n-->\n",
      "metadata": {}
    },
    {
      "cell_type": "code",
      "source": "NormalizedAnnualCompensation = []\n\nfor comp_freq, comp_total in zip(df['CompFreq'], df['CompTotal']):\n    if comp_freq == 'Yearly':\n        norm_comp = comp_total * 1\n        NormalizedAnnualCompensation.append(norm_comp)\n    elif comp_freq == 'Monthly':\n        norm_comp = comp_total * 12\n        NormalizedAnnualCompensation.append(norm_comp)\n    elif comp_freq == 'Weekly':\n        norm_comp = comp_total * 52\n        NormalizedAnnualCompensation.append(norm_comp)\n    else: \n        norm_comp = 0\n        NormalizedAnnualCompensation.append(norm_comp)\n\ndf['NormalizedAnnualCompensation'] = NormalizedAnnualCompensation\n\ndf[['CompFreq', 'CompTotal', 'NormalizedAnnualCompensation']].sample(100)",
      "metadata": {
        "trusted": true
      },
      "outputs": [
        {
          "execution_count": 22,
          "output_type": "execute_result",
          "data": {
            "text/plain": "      CompFreq   CompTotal  NormalizedAnnualCompensation\n6520    Yearly    140000.0                      140000.0\n2668   Monthly    160000.0                     1920000.0\n3771    Yearly     90000.0                       90000.0\n7719    Yearly     90000.0                       90000.0\n57     Monthly     24000.0                      288000.0\n4598    Yearly     60000.0                       60000.0\n954     Yearly     89000.0                       89000.0\n6810   Monthly      1500.0                       18000.0\n9440    Yearly     94500.0                       94500.0\n11533  Monthly    150000.0                     1800000.0\n5342   Monthly     27500.0                      330000.0\n3746   Monthly     22000.0                      264000.0\n517     Yearly     35000.0                       35000.0\n3113    Yearly     82500.0                       82500.0\n5869    Yearly     56000.0                       56000.0\n6882    Yearly    275000.0                      275000.0\n7140    Yearly    120000.0                      120000.0\n8349   Monthly     15330.0                      183960.0\n501    Monthly     30000.0                      360000.0\n9759    Yearly     76000.0                       76000.0\n9963    Yearly     61000.0                       61000.0\n6746   Monthly    150000.0                     1800000.0\n8502   Monthly      1500.0                       18000.0\n5262   Monthly     13000.0                      156000.0\n5961   Monthly     13000.0                      156000.0\n5348    Yearly     30000.0                       30000.0\n7992    Yearly         NaN                           NaN\n9522    Yearly     65000.0                       65000.0\n921     Yearly    135000.0                      135000.0\n3497    Yearly     55000.0                       55000.0\n5054   Monthly      4400.0                       52800.0\n9300   Monthly     96000.0                     1152000.0\n5021   Monthly     50000.0                      600000.0\n8211    Yearly    140000.0                      140000.0\n11399   Yearly    190000.0                      190000.0\n2754    Yearly    150000.0                      150000.0\n4953    Yearly     45000.0                       45000.0\n5902   Monthly     50000.0                      600000.0\n1025   Monthly     30000.0                      360000.0\n8805   Monthly     35000.0                      420000.0\n1929   Monthly     30000.0                      360000.0\n7404    Yearly    145000.0                      145000.0\n10317   Yearly     85000.0                       85000.0\n10244   Yearly     65000.0                       65000.0\n1642    Weekly    120000.0                     6240000.0\n5796   Monthly     19750.0                      237000.0\n1503   Monthly      2000.0                       24000.0\n7326    Yearly     27835.0                       27835.0\n9223   Monthly     64300.0                      771600.0\n2614    Yearly     44500.0                       44500.0\n2945    Yearly    135000.0                      135000.0\n6696   Monthly      4000.0                       48000.0\n7071   Monthly      2900.0                       34800.0\n4589       NaN         NaN                           0.0\n7693    Yearly    250000.0                      250000.0\n10804  Monthly      3500.0                       42000.0\n5843    Yearly    155000.0                      155000.0\n625     Yearly     56000.0                       56000.0\n9174    Yearly     52000.0                       52000.0\n10486   Yearly    160000.0                      160000.0\n1146    Yearly    400000.0                      400000.0\n546    Monthly  80000000.0                   960000000.0\n9285    Yearly     60000.0                       60000.0\n7888    Yearly     60000.0                       60000.0\n4009       NaN         NaN                           0.0\n10700  Monthly       900.0                       10800.0\n2660    Yearly     38000.0                       38000.0\n9049    Yearly   1400000.0                     1400000.0\n8251   Monthly      2000.0                       24000.0\n2835   Monthly      8000.0                       96000.0\n3810   Monthly      2300.0                       27600.0\n1484   Monthly   2200000.0                    26400000.0\n759     Yearly     66000.0                       66000.0\n8271    Yearly     60000.0                       60000.0\n11433  Monthly      3900.0                       46800.0\n6404    Yearly     70000.0                       70000.0\n1973   Monthly     75000.0                      900000.0\n6790    Yearly     83000.0                       83000.0\n5002   Monthly      1500.0                       18000.0\n5678    Yearly    680000.0                      680000.0\n5235   Monthly     11650.0                      139800.0\n3133    Yearly     52000.0                       52000.0\n7201   Monthly      6000.0                       72000.0\n6903    Yearly     90000.0                       90000.0\n9557    Weekly     60000.0                     3120000.0\n6026   Monthly  30000000.0                   360000000.0\n2466    Yearly    210000.0                      210000.0\n1912   Monthly     68500.0                      822000.0\n3294    Yearly     70000.0                       70000.0\n5978    Yearly    104000.0                      104000.0\n10044   Yearly    120000.0                      120000.0\n9948   Monthly  50000000.0                   600000000.0\n7725   Monthly      8650.0                      103800.0\n4025   Monthly      2700.0                       32400.0\n9260    Yearly     73000.0                       73000.0\n10324   Weekly       400.0                       20800.0\n2066    Yearly    120000.0                      120000.0\n2149    Yearly    120000.0                      120000.0\n5325       NaN         NaN                           0.0\n8996    Yearly    261833.0                      261833.0",
            "text/html": "<div>\n<style scoped>\n    .dataframe tbody tr th:only-of-type {\n        vertical-align: middle;\n    }\n\n    .dataframe tbody tr th {\n        vertical-align: top;\n    }\n\n    .dataframe thead th {\n        text-align: right;\n    }\n</style>\n<table border=\"1\" class=\"dataframe\">\n  <thead>\n    <tr style=\"text-align: right;\">\n      <th></th>\n      <th>CompFreq</th>\n      <th>CompTotal</th>\n      <th>NormalizedAnnualCompensation</th>\n    </tr>\n  </thead>\n  <tbody>\n    <tr>\n      <th>6520</th>\n      <td>Yearly</td>\n      <td>140000.0</td>\n      <td>140000.0</td>\n    </tr>\n    <tr>\n      <th>2668</th>\n      <td>Monthly</td>\n      <td>160000.0</td>\n      <td>1920000.0</td>\n    </tr>\n    <tr>\n      <th>3771</th>\n      <td>Yearly</td>\n      <td>90000.0</td>\n      <td>90000.0</td>\n    </tr>\n    <tr>\n      <th>7719</th>\n      <td>Yearly</td>\n      <td>90000.0</td>\n      <td>90000.0</td>\n    </tr>\n    <tr>\n      <th>57</th>\n      <td>Monthly</td>\n      <td>24000.0</td>\n      <td>288000.0</td>\n    </tr>\n    <tr>\n      <th>4598</th>\n      <td>Yearly</td>\n      <td>60000.0</td>\n      <td>60000.0</td>\n    </tr>\n    <tr>\n      <th>954</th>\n      <td>Yearly</td>\n      <td>89000.0</td>\n      <td>89000.0</td>\n    </tr>\n    <tr>\n      <th>6810</th>\n      <td>Monthly</td>\n      <td>1500.0</td>\n      <td>18000.0</td>\n    </tr>\n    <tr>\n      <th>9440</th>\n      <td>Yearly</td>\n      <td>94500.0</td>\n      <td>94500.0</td>\n    </tr>\n    <tr>\n      <th>11533</th>\n      <td>Monthly</td>\n      <td>150000.0</td>\n      <td>1800000.0</td>\n    </tr>\n    <tr>\n      <th>5342</th>\n      <td>Monthly</td>\n      <td>27500.0</td>\n      <td>330000.0</td>\n    </tr>\n    <tr>\n      <th>3746</th>\n      <td>Monthly</td>\n      <td>22000.0</td>\n      <td>264000.0</td>\n    </tr>\n    <tr>\n      <th>517</th>\n      <td>Yearly</td>\n      <td>35000.0</td>\n      <td>35000.0</td>\n    </tr>\n    <tr>\n      <th>3113</th>\n      <td>Yearly</td>\n      <td>82500.0</td>\n      <td>82500.0</td>\n    </tr>\n    <tr>\n      <th>5869</th>\n      <td>Yearly</td>\n      <td>56000.0</td>\n      <td>56000.0</td>\n    </tr>\n    <tr>\n      <th>6882</th>\n      <td>Yearly</td>\n      <td>275000.0</td>\n      <td>275000.0</td>\n    </tr>\n    <tr>\n      <th>7140</th>\n      <td>Yearly</td>\n      <td>120000.0</td>\n      <td>120000.0</td>\n    </tr>\n    <tr>\n      <th>8349</th>\n      <td>Monthly</td>\n      <td>15330.0</td>\n      <td>183960.0</td>\n    </tr>\n    <tr>\n      <th>501</th>\n      <td>Monthly</td>\n      <td>30000.0</td>\n      <td>360000.0</td>\n    </tr>\n    <tr>\n      <th>9759</th>\n      <td>Yearly</td>\n      <td>76000.0</td>\n      <td>76000.0</td>\n    </tr>\n    <tr>\n      <th>9963</th>\n      <td>Yearly</td>\n      <td>61000.0</td>\n      <td>61000.0</td>\n    </tr>\n    <tr>\n      <th>6746</th>\n      <td>Monthly</td>\n      <td>150000.0</td>\n      <td>1800000.0</td>\n    </tr>\n    <tr>\n      <th>8502</th>\n      <td>Monthly</td>\n      <td>1500.0</td>\n      <td>18000.0</td>\n    </tr>\n    <tr>\n      <th>5262</th>\n      <td>Monthly</td>\n      <td>13000.0</td>\n      <td>156000.0</td>\n    </tr>\n    <tr>\n      <th>5961</th>\n      <td>Monthly</td>\n      <td>13000.0</td>\n      <td>156000.0</td>\n    </tr>\n    <tr>\n      <th>5348</th>\n      <td>Yearly</td>\n      <td>30000.0</td>\n      <td>30000.0</td>\n    </tr>\n    <tr>\n      <th>7992</th>\n      <td>Yearly</td>\n      <td>NaN</td>\n      <td>NaN</td>\n    </tr>\n    <tr>\n      <th>9522</th>\n      <td>Yearly</td>\n      <td>65000.0</td>\n      <td>65000.0</td>\n    </tr>\n    <tr>\n      <th>921</th>\n      <td>Yearly</td>\n      <td>135000.0</td>\n      <td>135000.0</td>\n    </tr>\n    <tr>\n      <th>3497</th>\n      <td>Yearly</td>\n      <td>55000.0</td>\n      <td>55000.0</td>\n    </tr>\n    <tr>\n      <th>5054</th>\n      <td>Monthly</td>\n      <td>4400.0</td>\n      <td>52800.0</td>\n    </tr>\n    <tr>\n      <th>9300</th>\n      <td>Monthly</td>\n      <td>96000.0</td>\n      <td>1152000.0</td>\n    </tr>\n    <tr>\n      <th>5021</th>\n      <td>Monthly</td>\n      <td>50000.0</td>\n      <td>600000.0</td>\n    </tr>\n    <tr>\n      <th>8211</th>\n      <td>Yearly</td>\n      <td>140000.0</td>\n      <td>140000.0</td>\n    </tr>\n    <tr>\n      <th>11399</th>\n      <td>Yearly</td>\n      <td>190000.0</td>\n      <td>190000.0</td>\n    </tr>\n    <tr>\n      <th>2754</th>\n      <td>Yearly</td>\n      <td>150000.0</td>\n      <td>150000.0</td>\n    </tr>\n    <tr>\n      <th>4953</th>\n      <td>Yearly</td>\n      <td>45000.0</td>\n      <td>45000.0</td>\n    </tr>\n    <tr>\n      <th>5902</th>\n      <td>Monthly</td>\n      <td>50000.0</td>\n      <td>600000.0</td>\n    </tr>\n    <tr>\n      <th>1025</th>\n      <td>Monthly</td>\n      <td>30000.0</td>\n      <td>360000.0</td>\n    </tr>\n    <tr>\n      <th>8805</th>\n      <td>Monthly</td>\n      <td>35000.0</td>\n      <td>420000.0</td>\n    </tr>\n    <tr>\n      <th>1929</th>\n      <td>Monthly</td>\n      <td>30000.0</td>\n      <td>360000.0</td>\n    </tr>\n    <tr>\n      <th>7404</th>\n      <td>Yearly</td>\n      <td>145000.0</td>\n      <td>145000.0</td>\n    </tr>\n    <tr>\n      <th>10317</th>\n      <td>Yearly</td>\n      <td>85000.0</td>\n      <td>85000.0</td>\n    </tr>\n    <tr>\n      <th>10244</th>\n      <td>Yearly</td>\n      <td>65000.0</td>\n      <td>65000.0</td>\n    </tr>\n    <tr>\n      <th>1642</th>\n      <td>Weekly</td>\n      <td>120000.0</td>\n      <td>6240000.0</td>\n    </tr>\n    <tr>\n      <th>5796</th>\n      <td>Monthly</td>\n      <td>19750.0</td>\n      <td>237000.0</td>\n    </tr>\n    <tr>\n      <th>1503</th>\n      <td>Monthly</td>\n      <td>2000.0</td>\n      <td>24000.0</td>\n    </tr>\n    <tr>\n      <th>7326</th>\n      <td>Yearly</td>\n      <td>27835.0</td>\n      <td>27835.0</td>\n    </tr>\n    <tr>\n      <th>9223</th>\n      <td>Monthly</td>\n      <td>64300.0</td>\n      <td>771600.0</td>\n    </tr>\n    <tr>\n      <th>2614</th>\n      <td>Yearly</td>\n      <td>44500.0</td>\n      <td>44500.0</td>\n    </tr>\n    <tr>\n      <th>2945</th>\n      <td>Yearly</td>\n      <td>135000.0</td>\n      <td>135000.0</td>\n    </tr>\n    <tr>\n      <th>6696</th>\n      <td>Monthly</td>\n      <td>4000.0</td>\n      <td>48000.0</td>\n    </tr>\n    <tr>\n      <th>7071</th>\n      <td>Monthly</td>\n      <td>2900.0</td>\n      <td>34800.0</td>\n    </tr>\n    <tr>\n      <th>4589</th>\n      <td>NaN</td>\n      <td>NaN</td>\n      <td>0.0</td>\n    </tr>\n    <tr>\n      <th>7693</th>\n      <td>Yearly</td>\n      <td>250000.0</td>\n      <td>250000.0</td>\n    </tr>\n    <tr>\n      <th>10804</th>\n      <td>Monthly</td>\n      <td>3500.0</td>\n      <td>42000.0</td>\n    </tr>\n    <tr>\n      <th>5843</th>\n      <td>Yearly</td>\n      <td>155000.0</td>\n      <td>155000.0</td>\n    </tr>\n    <tr>\n      <th>625</th>\n      <td>Yearly</td>\n      <td>56000.0</td>\n      <td>56000.0</td>\n    </tr>\n    <tr>\n      <th>9174</th>\n      <td>Yearly</td>\n      <td>52000.0</td>\n      <td>52000.0</td>\n    </tr>\n    <tr>\n      <th>10486</th>\n      <td>Yearly</td>\n      <td>160000.0</td>\n      <td>160000.0</td>\n    </tr>\n    <tr>\n      <th>1146</th>\n      <td>Yearly</td>\n      <td>400000.0</td>\n      <td>400000.0</td>\n    </tr>\n    <tr>\n      <th>546</th>\n      <td>Monthly</td>\n      <td>80000000.0</td>\n      <td>960000000.0</td>\n    </tr>\n    <tr>\n      <th>9285</th>\n      <td>Yearly</td>\n      <td>60000.0</td>\n      <td>60000.0</td>\n    </tr>\n    <tr>\n      <th>7888</th>\n      <td>Yearly</td>\n      <td>60000.0</td>\n      <td>60000.0</td>\n    </tr>\n    <tr>\n      <th>4009</th>\n      <td>NaN</td>\n      <td>NaN</td>\n      <td>0.0</td>\n    </tr>\n    <tr>\n      <th>10700</th>\n      <td>Monthly</td>\n      <td>900.0</td>\n      <td>10800.0</td>\n    </tr>\n    <tr>\n      <th>2660</th>\n      <td>Yearly</td>\n      <td>38000.0</td>\n      <td>38000.0</td>\n    </tr>\n    <tr>\n      <th>9049</th>\n      <td>Yearly</td>\n      <td>1400000.0</td>\n      <td>1400000.0</td>\n    </tr>\n    <tr>\n      <th>8251</th>\n      <td>Monthly</td>\n      <td>2000.0</td>\n      <td>24000.0</td>\n    </tr>\n    <tr>\n      <th>2835</th>\n      <td>Monthly</td>\n      <td>8000.0</td>\n      <td>96000.0</td>\n    </tr>\n    <tr>\n      <th>3810</th>\n      <td>Monthly</td>\n      <td>2300.0</td>\n      <td>27600.0</td>\n    </tr>\n    <tr>\n      <th>1484</th>\n      <td>Monthly</td>\n      <td>2200000.0</td>\n      <td>26400000.0</td>\n    </tr>\n    <tr>\n      <th>759</th>\n      <td>Yearly</td>\n      <td>66000.0</td>\n      <td>66000.0</td>\n    </tr>\n    <tr>\n      <th>8271</th>\n      <td>Yearly</td>\n      <td>60000.0</td>\n      <td>60000.0</td>\n    </tr>\n    <tr>\n      <th>11433</th>\n      <td>Monthly</td>\n      <td>3900.0</td>\n      <td>46800.0</td>\n    </tr>\n    <tr>\n      <th>6404</th>\n      <td>Yearly</td>\n      <td>70000.0</td>\n      <td>70000.0</td>\n    </tr>\n    <tr>\n      <th>1973</th>\n      <td>Monthly</td>\n      <td>75000.0</td>\n      <td>900000.0</td>\n    </tr>\n    <tr>\n      <th>6790</th>\n      <td>Yearly</td>\n      <td>83000.0</td>\n      <td>83000.0</td>\n    </tr>\n    <tr>\n      <th>5002</th>\n      <td>Monthly</td>\n      <td>1500.0</td>\n      <td>18000.0</td>\n    </tr>\n    <tr>\n      <th>5678</th>\n      <td>Yearly</td>\n      <td>680000.0</td>\n      <td>680000.0</td>\n    </tr>\n    <tr>\n      <th>5235</th>\n      <td>Monthly</td>\n      <td>11650.0</td>\n      <td>139800.0</td>\n    </tr>\n    <tr>\n      <th>3133</th>\n      <td>Yearly</td>\n      <td>52000.0</td>\n      <td>52000.0</td>\n    </tr>\n    <tr>\n      <th>7201</th>\n      <td>Monthly</td>\n      <td>6000.0</td>\n      <td>72000.0</td>\n    </tr>\n    <tr>\n      <th>6903</th>\n      <td>Yearly</td>\n      <td>90000.0</td>\n      <td>90000.0</td>\n    </tr>\n    <tr>\n      <th>9557</th>\n      <td>Weekly</td>\n      <td>60000.0</td>\n      <td>3120000.0</td>\n    </tr>\n    <tr>\n      <th>6026</th>\n      <td>Monthly</td>\n      <td>30000000.0</td>\n      <td>360000000.0</td>\n    </tr>\n    <tr>\n      <th>2466</th>\n      <td>Yearly</td>\n      <td>210000.0</td>\n      <td>210000.0</td>\n    </tr>\n    <tr>\n      <th>1912</th>\n      <td>Monthly</td>\n      <td>68500.0</td>\n      <td>822000.0</td>\n    </tr>\n    <tr>\n      <th>3294</th>\n      <td>Yearly</td>\n      <td>70000.0</td>\n      <td>70000.0</td>\n    </tr>\n    <tr>\n      <th>5978</th>\n      <td>Yearly</td>\n      <td>104000.0</td>\n      <td>104000.0</td>\n    </tr>\n    <tr>\n      <th>10044</th>\n      <td>Yearly</td>\n      <td>120000.0</td>\n      <td>120000.0</td>\n    </tr>\n    <tr>\n      <th>9948</th>\n      <td>Monthly</td>\n      <td>50000000.0</td>\n      <td>600000000.0</td>\n    </tr>\n    <tr>\n      <th>7725</th>\n      <td>Monthly</td>\n      <td>8650.0</td>\n      <td>103800.0</td>\n    </tr>\n    <tr>\n      <th>4025</th>\n      <td>Monthly</td>\n      <td>2700.0</td>\n      <td>32400.0</td>\n    </tr>\n    <tr>\n      <th>9260</th>\n      <td>Yearly</td>\n      <td>73000.0</td>\n      <td>73000.0</td>\n    </tr>\n    <tr>\n      <th>10324</th>\n      <td>Weekly</td>\n      <td>400.0</td>\n      <td>20800.0</td>\n    </tr>\n    <tr>\n      <th>2066</th>\n      <td>Yearly</td>\n      <td>120000.0</td>\n      <td>120000.0</td>\n    </tr>\n    <tr>\n      <th>2149</th>\n      <td>Yearly</td>\n      <td>120000.0</td>\n      <td>120000.0</td>\n    </tr>\n    <tr>\n      <th>5325</th>\n      <td>NaN</td>\n      <td>NaN</td>\n      <td>0.0</td>\n    </tr>\n    <tr>\n      <th>8996</th>\n      <td>Yearly</td>\n      <td>261833.0</td>\n      <td>261833.0</td>\n    </tr>\n  </tbody>\n</table>\n</div>"
          },
          "metadata": {}
        }
      ],
      "execution_count": 22
    },
    {
      "cell_type": "markdown",
      "source": "## Authors\n",
      "metadata": {}
    },
    {
      "cell_type": "markdown",
      "source": "Ramesh Sannareddy\n",
      "metadata": {}
    },
    {
      "cell_type": "markdown",
      "source": "### Other Contributors\n",
      "metadata": {}
    },
    {
      "cell_type": "markdown",
      "source": "Rav Ahuja\n",
      "metadata": {}
    },
    {
      "cell_type": "markdown",
      "source": "## Change Log\n",
      "metadata": {}
    },
    {
      "cell_type": "markdown",
      "source": "| Date (YYYY-MM-DD) | Version | Changed By        | Change Description                 |\n| ----------------- | ------- | ----------------- | ---------------------------------- |\n| 2020-10-17        | 0.1     | Ramesh Sannareddy | Created initial version of the lab |\n",
      "metadata": {}
    },
    {
      "cell_type": "markdown",
      "source": " Copyright © 2020 IBM Corporation. This notebook and its source code are released under the terms of the [MIT License](https://cognitiveclass.ai/mit-license?utm_medium=Exinfluencer&utm_source=Exinfluencer&utm_content=000026UJ&utm_term=10006555&utm_id=NA-SkillsNetwork-Channel-SkillsNetworkCoursesIBMDA0321ENSkillsNetwork928-2022-01-01&cm_mmc=Email_Newsletter-_-Developer_Ed%2BTech-_-WW_WW-_-SkillsNetwork-Courses-IBM-DA0321EN-SkillsNetwork-21426264&cm_mmca1=000026UJ&cm_mmca2=10006555&cm_mmca3=M12345678&cvosrc=email.Newsletter.M12345678&cvo_campaign=000026UJ).\n",
      "metadata": {}
    }
  ]
}